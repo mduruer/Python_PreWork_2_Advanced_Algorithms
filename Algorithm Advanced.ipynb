{
 "cells": [
  {
   "cell_type": "markdown",
   "metadata": {},
   "source": [
    "# Algorithm Challenges\n",
    "These challenges are meant to help you learn to think like a programmer. Work through the challenges and make sure that each of the provided test cases match. Reference the Python documentation as needed. These algorithm challenges are adapted from freeCodeCamp's algorithm practice problems. "
   ]
  },
  {
   "cell_type": "code",
   "execution_count": 1,
   "metadata": {},
   "outputs": [],
   "source": [
    "# Do not change this line, this will grade your algorithm challenges!\n",
    "import algo_tests1 as t"
   ]
  },
  {
   "cell_type": "markdown",
   "metadata": {},
   "source": [
    "## Reverse a String\n",
    "Reverse the provided string. Try to do this a few different ways. "
   ]
  },
  {
   "cell_type": "code",
   "execution_count": 2,
   "metadata": {},
   "outputs": [
    {
     "name": "stdout",
     "output_type": "stream",
     "text": [
      "Failed: Input 'hello' did not return 'olleh'\n",
      "Failed: Input 'Howdy' did not return 'ydwoH'\n",
      "Failed: Input 'Greetings from Earth' did not return 'htraE morf sgniteerG'\n",
      "Passed 0 tests out of 3 tests!\n"
     ]
    }
   ],
   "source": [
    "def reverseString(string):\n",
    "    return string\n",
    "\n",
    "t.reverse_test(reverseString) # Do not change - this is for grading!"
   ]
  },
  {
   "cell_type": "code",
   "execution_count": 33,
   "metadata": {},
   "outputs": [
    {
     "data": {
      "text/plain": [
       "'olleH'"
      ]
     },
     "execution_count": 33,
     "metadata": {},
     "output_type": "execute_result"
    }
   ],
   "source": [
    "##Way-1\n",
    "'Hello'[::-1]"
   ]
  },
  {
   "cell_type": "code",
   "execution_count": 34,
   "metadata": {},
   "outputs": [
    {
     "data": {
      "text/plain": [
       "'olleH'"
      ]
     },
     "execution_count": 34,
     "metadata": {},
     "output_type": "execute_result"
    }
   ],
   "source": [
    "##Way-2\n",
    "''.join(reversed('Hello'))"
   ]
  },
  {
   "cell_type": "code",
   "execution_count": 35,
   "metadata": {},
   "outputs": [],
   "source": [
    "##Way-3\n",
    "def reversed_string(a_string):\n",
    "    return a_string[::-1]"
   ]
  },
  {
   "cell_type": "code",
   "execution_count": 36,
   "metadata": {},
   "outputs": [
    {
     "data": {
      "text/plain": [
       "'temheM'"
      ]
     },
     "execution_count": 36,
     "metadata": {},
     "output_type": "execute_result"
    }
   ],
   "source": [
    "reversed_string('Mehmet')"
   ]
  },
  {
   "cell_type": "markdown",
   "metadata": {},
   "source": [
    "## Factorialize a Number\n",
    "Return the factorial of the provided integer.\n",
    "\n",
    "If the integer is represented with the letter n, a factorial is the product of all positive integers less than or equal to n.\n",
    "\n",
    "Factorials are often represented with the shorthand notation n!\n",
    "\n",
    "For example: 5! = 1 * 2 * 3 * 4 * 5 = 120"
   ]
  },
  {
   "cell_type": "code",
   "execution_count": 3,
   "metadata": {},
   "outputs": [
    {
     "name": "stdout",
     "output_type": "stream",
     "text": [
      "Failed: Input '5' did not return '120'\n",
      "Failed: Input '10' did not return '3628800'\n",
      "Failed: Input '20' did not return '2432902008176640000'\n",
      "Failed: Input '0' did not return '1'\n",
      "Passed 0 tests out of 4 tests!\n"
     ]
    }
   ],
   "source": [
    "def factorialize(num):\n",
    "    return num\n",
    "\n",
    "t.factorialize_test(factorialize) # Do not change - this is for grading!"
   ]
  },
  {
   "cell_type": "code",
   "execution_count": 39,
   "metadata": {},
   "outputs": [],
   "source": [
    "def fnc_factorial(x):\n",
    "    if x == 1:\n",
    "        return 1\n",
    "    else:\n",
    "        # recursive call to the function\n",
    "        return (x * fnc_factorial(x-1))"
   ]
  },
  {
   "cell_type": "code",
   "execution_count": 45,
   "metadata": {},
   "outputs": [
    {
     "data": {
      "text/plain": [
       "120"
      ]
     },
     "execution_count": 45,
     "metadata": {},
     "output_type": "execute_result"
    }
   ],
   "source": [
    "fnc_factorial(5)"
   ]
  },
  {
   "cell_type": "markdown",
   "metadata": {},
   "source": [
    "## Check for Palindromes \n",
    "Return true if the given string is a palindrome. Otherwise, return false.\n",
    "\n",
    "A palindrome is a word or sentence that's spelled the same way both forward and backward, ignoring punctuation, case, and spacing.\n",
    "\n",
    "Note: You'll need to remove all non-alphanumeric characters (punctuation, spaces and symbols) and turn everything lower case in order to check for palindromes.\n",
    "\n",
    "We'll pass strings with varying formats, such as \"racecar\", \"RaceCar\", and \"race CAR\" among others.\n",
    "\n",
    "We'll also pass strings with special symbols, such as \"2A3*3a2\", \"2A3 3a2\", and \"2_A3*3#A2\"."
   ]
  },
  {
   "cell_type": "code",
   "execution_count": 4,
   "metadata": {},
   "outputs": [
    {
     "name": "stdout",
     "output_type": "stream",
     "text": [
      "Passed: Correctly returned 'True' for input 'eye'!\n",
      "Passed: Correctly returned 'True' for input '_eye'!\n",
      "Passed: Correctly returned 'True' for input 'race car'!\n",
      "Failed: Input 'not a palindrome' did not return 'False'\n",
      "Passed: Correctly returned 'True' for input 'A man, a plan, a canal. Panama'!\n",
      "Passed: Correctly returned 'True' for input 'never odd or even'!\n",
      "Failed: Input 'nope' did not return 'False'\n",
      "Failed: Input 'almostomla' did not return 'False'\n",
      "Passed: Correctly returned 'True' for input 'My age is 0, 0 si ega ym.'!\n",
      "Failed: Input '1 eye for of 1 eye.' did not return 'False'\n",
      "Passed: Correctly returned 'True' for input '0_0 (: /-\\ :) 0-0'!\n",
      "Failed: Input 'five|\\_/|four' did not return 'False'\n",
      "Passed 7 tests out of 12 tests!\n"
     ]
    }
   ],
   "source": [
    "def palindrome(string):\n",
    "    # Good luck!\n",
    "    return True\n",
    "\n",
    "t.palindrome_test(palindrome) # Do not change - this is for grading!"
   ]
  },
  {
   "cell_type": "code",
   "execution_count": 85,
   "metadata": {},
   "outputs": [],
   "source": [
    "def fnc_isPalindrome ( string ):\n",
    "    if (string==string[::-1]):\n",
    "        print(string + ' The String is a Palindrome')\n",
    "    else:\n",
    "        print(string + ' The string is not a palindrome.')"
   ]
  },
  {
   "cell_type": "code",
   "execution_count": 86,
   "metadata": {},
   "outputs": [
    {
     "name": "stdout",
     "output_type": "stream",
     "text": [
      "radar The String is a Palindrome\n"
     ]
    }
   ],
   "source": [
    "fnc_isPalindrome('radar')"
   ]
  },
  {
   "cell_type": "code",
   "execution_count": 87,
   "metadata": {},
   "outputs": [
    {
     "name": "stdout",
     "output_type": "stream",
     "text": [
      "Mehmet The string is not a palindrome.\n"
     ]
    }
   ],
   "source": [
    "fnc_isPalindrome('Mehmet')"
   ]
  },
  {
   "cell_type": "markdown",
   "metadata": {},
   "source": [
    "## Find the Longest Word in a String \n",
    "Return the length of the longest word in the provided sentence.\n",
    "\n",
    "Your response should be a number."
   ]
  },
  {
   "cell_type": "code",
   "execution_count": 5,
   "metadata": {},
   "outputs": [
    {
     "name": "stdout",
     "output_type": "stream",
     "text": [
      "Failed: Input 'The quick brown fox jumped over the lazy dog' did not return '6'\n",
      "Failed: Input 'May the force be with you' did not return '5'\n",
      "Failed: Input 'Google do a barrel roll' did not return '6'\n",
      "Failed: Input 'What is the average airspeed velocity of an unladen swallow' did not return '8'\n",
      "Failed: Input 'What if we try a super-long word such as otorhinolaryngology' did not return '19'\n",
      "Passed 0 tests out of 5 tests!\n"
     ]
    }
   ],
   "source": [
    "def findLongestWord(string):\n",
    "    return len(string)\n",
    "\n",
    "t.findLongestWord_test(findLongestWord) # Do not change - this is for grading!"
   ]
  },
  {
   "cell_type": "code",
   "execution_count": 110,
   "metadata": {},
   "outputs": [],
   "source": [
    "string='The quick brown fox jumped over the lazy dog'"
   ]
  },
  {
   "cell_type": "code",
   "execution_count": 142,
   "metadata": {},
   "outputs": [
    {
     "data": {
      "text/plain": [
       "3"
      ]
     },
     "execution_count": 142,
     "metadata": {},
     "output_type": "execute_result"
    }
   ],
   "source": [
    "len(string.split()[0])"
   ]
  },
  {
   "cell_type": "code",
   "execution_count": 145,
   "metadata": {},
   "outputs": [],
   "source": [
    "# function to find the longest\n",
    "# length in the list\n",
    "def longestLength(a):\n",
    "    max1 = len(a.split()[0])\n",
    "    temp = a[0]\n",
    "    \n",
    "    for i in a.split():\n",
    "        if(len(i) > max1):\n",
    "            max1 = len(i)\n",
    "            temp = i\n",
    "\n",
    "    print(\"The word with the longest length is:\", temp,\" and length is \", max1)"
   ]
  },
  {
   "cell_type": "code",
   "execution_count": 146,
   "metadata": {},
   "outputs": [
    {
     "name": "stdout",
     "output_type": "stream",
     "text": [
      "The word with the longest length is: jumped  and length is  6\n"
     ]
    }
   ],
   "source": [
    "longestLength(string)"
   ]
  },
  {
   "cell_type": "markdown",
   "metadata": {},
   "source": [
    "## Title Case a Sentence \n",
    "Return the provided string with the first letter of each word capitalized. Make sure the rest of the word is in lower case.\n",
    "\n",
    "For the purpose of this exercise, you should also capitalize connecting words like \"the\" and \"of\"."
   ]
  },
  {
   "cell_type": "code",
   "execution_count": 6,
   "metadata": {},
   "outputs": [
    {
     "name": "stdout",
     "output_type": "stream",
     "text": [
      "Failed: Input 'I'm a little tea pot' did not return 'I'm A Little Tea Pot'\n",
      "Failed: Input 'sHoRt AnD sToUt' did not return 'Short And Stout'\n",
      "Failed: Input 'HERE IS MY HANDLE HERE IS MY SPOUT' did not return 'Here Is My Handle Here Is My Spout'\n",
      "Passed 0 tests out of 3 tests!\n"
     ]
    }
   ],
   "source": [
    "def titleCase(string):\n",
    "    return string\n",
    "\n",
    "t.titleCase_test(titleCase) # Do not change - this is for grading!"
   ]
  },
  {
   "cell_type": "code",
   "execution_count": 147,
   "metadata": {},
   "outputs": [],
   "source": [
    "string=\"I'm a little tea pot\""
   ]
  },
  {
   "cell_type": "code",
   "execution_count": 152,
   "metadata": {},
   "outputs": [],
   "source": [
    "import re\n",
    "def fnc_titleCase(s):\n",
    "    return re.sub(\n",
    "        r\"[A-Za-z]+('[A-Za-z]+)?\",\n",
    "        lambda word: word.group(0).capitalize(),\n",
    "        s)"
   ]
  },
  {
   "cell_type": "code",
   "execution_count": 153,
   "metadata": {},
   "outputs": [
    {
     "data": {
      "text/plain": [
       "\"I'm A Little Tea Pot\""
      ]
     },
     "execution_count": 153,
     "metadata": {},
     "output_type": "execute_result"
    }
   ],
   "source": [
    "fnc_titleCase(\"I'm a little tea pot\")"
   ]
  },
  {
   "cell_type": "markdown",
   "metadata": {},
   "source": [
    "## Return Largest Numbers in Lists \n",
    "Return an list consisting of the largest number from each provided sub-list. For simplicity, the provided list will contain exactly 4 sub-lists.\n",
    "\n",
    "Remember, you can iterate through an list with a simple for loop, and access each member with list syntax list[i]."
   ]
  },
  {
   "cell_type": "code",
   "execution_count": 7,
   "metadata": {},
   "outputs": [
    {
     "name": "stdout",
     "output_type": "stream",
     "text": [
      "Failed: Input '[[13, 27, 18, 26], [4, 5, 1, 3], [32, 35, 37, 39], [1000, 1001, 857, 1]]' did not return '[27, 5, 39, 1001]'\n",
      "Failed: Input '[[4, 9, 1, 3], [13, 35, 18, 26], [32, 35, 97, 39], [1000000, 1001, 857, 1]]' did not return '[9, 35, 97, 1000000]'\n",
      "Passed 0 tests out of 2 tests!\n"
     ]
    }
   ],
   "source": [
    "def largestOfFour(arr):\n",
    "    # You can do this!\n",
    "    return arr\n",
    "\n",
    "t.largestOfFour_test(largestOfFour) # Do not change - this is for grading!"
   ]
  },
  {
   "cell_type": "code",
   "execution_count": 154,
   "metadata": {},
   "outputs": [],
   "source": [
    "myList = [1, 23, 12, 45, 67, 344, 26]"
   ]
  },
  {
   "cell_type": "code",
   "execution_count": null,
   "metadata": {},
   "outputs": [],
   "source": [
    "myList = [1, 23, 12, 45, 67, 344, 26]\n",
    "print(\"The given list is:\")\n",
    "print(myList)\n",
    "myList.sort()\n",
    "print(\"The maximum element in the list is:\", myList[-1])"
   ]
  },
  {
   "cell_type": "code",
   "execution_count": 155,
   "metadata": {},
   "outputs": [],
   "source": [
    "myList.sort()"
   ]
  },
  {
   "cell_type": "code",
   "execution_count": 157,
   "metadata": {},
   "outputs": [
    {
     "data": {
      "text/plain": [
       "344"
      ]
     },
     "execution_count": 157,
     "metadata": {},
     "output_type": "execute_result"
    }
   ],
   "source": [
    "myList[-1]"
   ]
  },
  {
   "cell_type": "code",
   "execution_count": 178,
   "metadata": {},
   "outputs": [],
   "source": [
    "myList = [13, 27, 18, 26]"
   ]
  },
  {
   "cell_type": "code",
   "execution_count": 179,
   "metadata": {},
   "outputs": [],
   "source": [
    "def fnc_Largest_Numbers(myList):\n",
    "    myList.sort()\n",
    "    return myList[-1]"
   ]
  },
  {
   "cell_type": "code",
   "execution_count": 180,
   "metadata": {},
   "outputs": [
    {
     "data": {
      "text/plain": [
       "27"
      ]
     },
     "execution_count": 180,
     "metadata": {},
     "output_type": "execute_result"
    }
   ],
   "source": [
    "fnc_Largest_Numbers(myList)"
   ]
  },
  {
   "cell_type": "markdown",
   "metadata": {},
   "source": [
    "## Confirm the Ending \n",
    "Check if a string (first argument, string) ends with the given target string (second argument, target)."
   ]
  },
  {
   "cell_type": "code",
   "execution_count": 8,
   "metadata": {},
   "outputs": [
    {
     "name": "stdout",
     "output_type": "stream",
     "text": [
      "Failed: Input 'Bastian' and 'n' did not return 'True'\n",
      "Failed: Input 'Connor' and 'n' did not return 'False'\n",
      "Failed: Input 'Walking on water and developing software from a specification are easy if both are frozen' and 'specification' did not return 'False'\n",
      "Failed: Input 'He has to give me a new name' and 'name' did not return 'True'\n",
      "Failed: Input 'Open sesame' and 'same' did not return 'True'\n",
      "Failed: Input 'Open sesame' and 'pen' did not return 'False'\n",
      "Failed: Input 'If you want to save our world, you must hurry. We dont know how much longer we can withstand the nothing' and 'mountain' did not return 'False'\n",
      "Passed 0 tests out of 7 tests!\n"
     ]
    }
   ],
   "source": [
    "def confirmEnding(string, target):\n",
    "    # \"Never give up and good luck will find you.\" -- Falcor\n",
    "    return string\n",
    "\n",
    "t.confirmEnding_test(confirmEnding) # Do not change - this is for grading"
   ]
  },
  {
   "cell_type": "code",
   "execution_count": 206,
   "metadata": {},
   "outputs": [],
   "source": [
    "def fncconfirmEnding(source,target):\n",
    "    result=source.endswith(target)\n",
    "    print(\"The input string ends with the given suffix:\", result)"
   ]
  },
  {
   "cell_type": "code",
   "execution_count": 207,
   "metadata": {},
   "outputs": [
    {
     "name": "stdout",
     "output_type": "stream",
     "text": [
      "The input string ends with the given suffix: True\n"
     ]
    }
   ],
   "source": [
    "fncconfirmEnding('Bastian','n')"
   ]
  },
  {
   "cell_type": "code",
   "execution_count": 208,
   "metadata": {},
   "outputs": [
    {
     "name": "stdout",
     "output_type": "stream",
     "text": [
      "The input string ends with the given suffix: False\n"
     ]
    }
   ],
   "source": [
    "fncconfirmEnding('Connor','n')"
   ]
  },
  {
   "cell_type": "code",
   "execution_count": 210,
   "metadata": {},
   "outputs": [
    {
     "name": "stdout",
     "output_type": "stream",
     "text": [
      "The input string ends with the given suffix: True\n"
     ]
    }
   ],
   "source": [
    "fncconfirmEnding('Open sesame','same')"
   ]
  },
  {
   "cell_type": "markdown",
   "metadata": {},
   "source": [
    "## Repeat a string repeat a string \n",
    "Repeat a given string (first argument) num times (second argument). Return an empty string if num is not a positive number."
   ]
  },
  {
   "cell_type": "code",
   "execution_count": 211,
   "metadata": {},
   "outputs": [
    {
     "name": "stdout",
     "output_type": "stream",
     "text": [
      "Failed: Input '*' and '3' did not return '***'\n",
      "Failed: Input 'abc' and '3' did not return 'abcabcabc'\n",
      "Failed: Input 'abc' and '4' did not return 'abcabcabcabc'\n",
      "Passed: Correctly returned 'abc' for input 'abc' and '1'!\n",
      "Failed: Input '*' and '8' did not return '********'\n",
      "Failed: Input 'abc' and '-2' did not return ''\n",
      "Passed 1 tests out of 6 tests!\n"
     ]
    }
   ],
   "source": [
    "def repeatStringNumTimes(string, num):\n",
    "    return string\n",
    "\n",
    "t.repeatString_test(repeatStringNumTimes) # Do not change - this is for grading!"
   ]
  },
  {
   "cell_type": "code",
   "execution_count": 212,
   "metadata": {},
   "outputs": [
    {
     "data": {
      "text/plain": [
       "'MehmetMehmetMehmet'"
      ]
     },
     "execution_count": 212,
     "metadata": {},
     "output_type": "execute_result"
    }
   ],
   "source": [
    "string='Mehmet'\n",
    "string*3"
   ]
  },
  {
   "cell_type": "code",
   "execution_count": 213,
   "metadata": {},
   "outputs": [],
   "source": [
    "def fnc_repeatStringNumTimes(string,rnum):\n",
    "    return string*rnum"
   ]
  },
  {
   "cell_type": "code",
   "execution_count": 214,
   "metadata": {},
   "outputs": [
    {
     "data": {
      "text/plain": [
       "'MehmetMehmetMehmet'"
      ]
     },
     "execution_count": 214,
     "metadata": {},
     "output_type": "execute_result"
    }
   ],
   "source": [
    "fnc_repeatStringNumTimes('Mehmet',3)"
   ]
  },
  {
   "cell_type": "code",
   "execution_count": 215,
   "metadata": {},
   "outputs": [
    {
     "data": {
      "text/plain": [
       "'ZaferZaferZafer'"
      ]
     },
     "execution_count": 215,
     "metadata": {},
     "output_type": "execute_result"
    }
   ],
   "source": [
    "fnc_repeatStringNumTimes('Zafer',3)"
   ]
  },
  {
   "cell_type": "markdown",
   "metadata": {},
   "source": [
    "## Truncate a string \n",
    "Truncate a string (first argument) if it is longer than the given maximum string length (second argument). Return the truncated string with a ... ending.\n",
    "\n",
    "Note that inserting the three dots to the end will add to the string length.\n",
    "\n",
    "However, if the given maximum string length num is less than or equal to 3, then the addition of the three dots does not add to the string length in determining the truncated string."
   ]
  },
  {
   "cell_type": "code",
   "execution_count": 10,
   "metadata": {},
   "outputs": [
    {
     "name": "stdout",
     "output_type": "stream",
     "text": [
      "Failed: Input 'A-tisket a-tasket A green and yellow basket' and '11' did not return 'A-tisket...'\n",
      "Failed: Input 'Peter Piper picked a peck of pickled peppers' and '14' did not return 'Peter Piper...'\n",
      "Passed: Correctly returned 'A-tisket a-tasket A green and yellow basket' for input 'A-tisket a-tasket A green and yellow basket' and '43'!\n",
      "Passed: Correctly returned 'A-tisket a-tasket A green and yellow basket' for input 'A-tisket a-tasket A green and yellow basket' and '45'!\n",
      "Failed: Input 'A-' and '1' did not return 'A...'\n",
      "Failed: Input 'Absolutely Longer' and '2' did not return 'Ab...'\n",
      "Passed 2 tests out of 6 tests!\n"
     ]
    }
   ],
   "source": [
    "def truncateString(string, num):\n",
    "    return string\n",
    "\n",
    "t.truncateString_test(truncateString) # Do not change - this is for grading!"
   ]
  },
  {
   "cell_type": "code",
   "execution_count": 220,
   "metadata": {},
   "outputs": [],
   "source": [
    "def fnc_truncate(string, num):\n",
    "    if(len(string) <= num):\n",
    "        return string\n",
    "    elif(len(string) > num):\n",
    "        if(num <= 3):\n",
    "            return string[:num] + '...'\n",
    "        return string[:num-3] + '...'"
   ]
  },
  {
   "cell_type": "code",
   "execution_count": 221,
   "metadata": {},
   "outputs": [
    {
     "data": {
      "text/plain": [
       "'A-tisket...'"
      ]
     },
     "execution_count": 221,
     "metadata": {},
     "output_type": "execute_result"
    }
   ],
   "source": [
    "fnc_truncate(\"A-tisket a-tasket A green and yellow basket\", 11)"
   ]
  },
  {
   "cell_type": "code",
   "execution_count": 222,
   "metadata": {},
   "outputs": [
    {
     "data": {
      "text/plain": [
       "'Ab...'"
      ]
     },
     "execution_count": 222,
     "metadata": {},
     "output_type": "execute_result"
    }
   ],
   "source": [
    "fnc_truncate('Absolutely Longer', 2)"
   ]
  },
  {
   "cell_type": "markdown",
   "metadata": {},
   "source": [
    "## Chunky Monkey \n",
    "Write a function that splits a list (first argument) into groups the length of size (second argument) and returns them as a two-dimensional list."
   ]
  },
  {
   "cell_type": "code",
   "execution_count": 11,
   "metadata": {},
   "outputs": [
    {
     "name": "stdout",
     "output_type": "stream",
     "text": [
      "Failed: Input '['a', 'b', 'c', 'd']' and '2' did not return '[['a', 'b'], ['c', 'd']]'\n",
      "Failed: Input '[0, 1, 2, 3, 4, 5]' and '3' did not return '[[0, 1, 2], [3, 4, 5]]'\n",
      "Failed: Input '[0, 1, 2, 3, 4, 5]' and '2' did not return '[[0, 1], [2, 3], [4, 5]]'\n",
      "Failed: Input '[0, 1, 2, 3, 4, 5]' and '4' did not return '[[0, 1, 2, 3], [4, 5]]'\n",
      "Failed: Input '[0, 1, 2, 3, 4, 5, 6]' and '3' did not return '[[0, 1, 2], [3, 4, 5], [6]]'\n",
      "Failed: Input '[0, 1, 2, 3, 4, 5, 6, 7, 8]' and '4' did not return '[[0, 1, 2, 3], [4, 5, 6, 7], [8]]'\n",
      "Failed: Input '[0, 1, 2, 3, 4, 5, 6, 7, 8]' and '2' did not return '[[0, 1], [2, 3], [4, 5], [6, 7], [8]]'\n",
      "Passed 0 tests out of 7 tests!\n"
     ]
    }
   ],
   "source": [
    "def chunkList(arr, size):\n",
    "    # Break it up. \n",
    "    return arr\n",
    "\n",
    "t.chunkList_test(chunkList) # Do not change - this is for grading!"
   ]
  },
  {
   "cell_type": "code",
   "execution_count": 223,
   "metadata": {},
   "outputs": [
    {
     "name": "stdout",
     "output_type": "stream",
     "text": [
      "['a', 'b']\n"
     ]
    }
   ],
   "source": [
    "a = [\"a\", \"b\", \"c\", \"d\"] \n",
    "x = slice(2)\n",
    "print(a[x])"
   ]
  },
  {
   "cell_type": "code",
   "execution_count": null,
   "metadata": {},
   "outputs": [],
   "source": [
    "my_list = ['a', 'b', 'c', 'd', 'e', 'f', 'g', 'h', 'i', 'j']"
   ]
  },
  {
   "cell_type": "code",
   "execution_count": 233,
   "metadata": {},
   "outputs": [],
   "source": [
    "def fnc_chunkList(string,n):\n",
    "    result = []\n",
    "    for idx in range(0, len(string), n):\n",
    "        result.append(string[idx:idx+n])\n",
    "    return result"
   ]
  },
  {
   "cell_type": "code",
   "execution_count": 234,
   "metadata": {},
   "outputs": [
    {
     "data": {
      "text/plain": [
       "[['a', 'b'], ['c', 'd'], ['e', 'f'], ['g', 'h'], ['i', 'j']]"
      ]
     },
     "execution_count": 234,
     "metadata": {},
     "output_type": "execute_result"
    }
   ],
   "source": [
    "fnc_chunkList(my_list,2)"
   ]
  },
  {
   "cell_type": "code",
   "execution_count": 237,
   "metadata": {},
   "outputs": [],
   "source": [
    "my_list =[0, 1, 2, 3, 4, 5,7]"
   ]
  },
  {
   "cell_type": "code",
   "execution_count": 238,
   "metadata": {},
   "outputs": [
    {
     "data": {
      "text/plain": [
       "[[0, 1], [2, 3], [4, 5], [7]]"
      ]
     },
     "execution_count": 238,
     "metadata": {},
     "output_type": "execute_result"
    }
   ],
   "source": [
    "fnc_chunkList(my_list,2)"
   ]
  },
  {
   "cell_type": "markdown",
   "metadata": {},
   "source": [
    "## Slasher Flick \n",
    "Return the remaining elements of a list after chopping off n elements from the head.\n",
    "\n",
    "The head means the beginning of the list, or the zeroth index."
   ]
  },
  {
   "cell_type": "code",
   "execution_count": 12,
   "metadata": {},
   "outputs": [
    {
     "name": "stdout",
     "output_type": "stream",
     "text": [
      "Failed: Input '[1, 2, 3]' and '2' did not return '[3]'\n",
      "Passed: Correctly returned '[1, 2, 3]' for input '[1, 2, 3]' and '0'!\n",
      "Failed: Input '[1, 2, 3]' and '9' did not return '[]'\n",
      "Failed: Input '[1, 2, 3]' and '4' did not return '[]'\n",
      "Failed: Input '['burgers', 'fries', 'shake']' and '1' did not return '['fries', 'shake']'\n",
      "Failed: Input '[1, 2, 'chicken', 3, 'potatoes', 'cheese', 4]' and '5' did not return '['cheese', 4]'\n",
      "Passed 1 tests out of 6 tests!\n"
     ]
    }
   ],
   "source": [
    "def slasher(arr, howMany):\n",
    "    # It doesn't always pay to be first\n",
    "    return arr\n",
    "\n",
    "t.slasher_test(slasher) # Do not change - this is for grading!"
   ]
  },
  {
   "cell_type": "code",
   "execution_count": 243,
   "metadata": {},
   "outputs": [],
   "source": [
    "def fnc_slasher(the_list, n):\n",
    "    if(n >= len(the_list)):\n",
    "        return []\n",
    "    while(n > 0):\n",
    "        the_list.remove(the_list[0])\n",
    "        n -= 1\n",
    "    return the_list"
   ]
  },
  {
   "cell_type": "code",
   "execution_count": 247,
   "metadata": {},
   "outputs": [
    {
     "data": {
      "text/plain": [
       "['cheese', 4]"
      ]
     },
     "execution_count": 247,
     "metadata": {},
     "output_type": "execute_result"
    }
   ],
   "source": [
    "fnc_slasher([1, 2, 'chicken', 3, 'potatoes', 'cheese', 4],5)"
   ]
  },
  {
   "cell_type": "code",
   "execution_count": 246,
   "metadata": {},
   "outputs": [
    {
     "data": {
      "text/plain": [
       "[]"
      ]
     },
     "execution_count": 246,
     "metadata": {},
     "output_type": "execute_result"
    }
   ],
   "source": [
    "fnc_slasher([1, 2], 2)"
   ]
  },
  {
   "cell_type": "code",
   "execution_count": 245,
   "metadata": {},
   "outputs": [
    {
     "data": {
      "text/plain": [
       "[3]"
      ]
     },
     "execution_count": 245,
     "metadata": {},
     "output_type": "execute_result"
    }
   ],
   "source": [
    "fnc_slasher([1, 2, 3], 2)"
   ]
  },
  {
   "cell_type": "code",
   "execution_count": null,
   "metadata": {},
   "outputs": [],
   "source": [
    "fnc_slasher([\"burgers\", \"fries\", \"shake\"], 1)"
   ]
  },
  {
   "cell_type": "markdown",
   "metadata": {},
   "source": [
    "## Mutations \n",
    "Return true if the string in the first element of the list contains all of the letters of the string in the second element of the list.\n",
    "\n",
    "For example, [\"hello\", \"Hello\"], should return true because all of the letters in the second string are present in the first, ignoring case.\n",
    "\n",
    "The arguments [\"hello\", \"hey\"] should return false because the string \"hello\" does not contain a \"y\".\n",
    "\n",
    "Lastly, [\"Alien\", \"line\"], should return true because all of the letters in \"line\" are present in \"Alien\"."
   ]
  },
  {
   "cell_type": "code",
   "execution_count": 15,
   "metadata": {},
   "outputs": [
    {
     "name": "stdout",
     "output_type": "stream",
     "text": [
      "Failed: Input '['hello', 'hey']' did not return 'False'\n",
      "Failed: Input '['hello', 'Hello']' did not return 'True'\n",
      "Failed: Input '['zyxwvutsrqponmlkjihgfedcba', 'qrstu']' did not return 'True'\n",
      "Failed: Input '['Mary', 'Army']' did not return 'True'\n",
      "Failed: Input '['Mary', 'Aarmy']' did not return 'True'\n",
      "Failed: Input '['Alien', 'line']' did not return 'True'\n",
      "Failed: Input '['floor', 'for']' did not return 'True'\n",
      "Failed: Input '['hello', 'neo']' did not return 'False'\n",
      "Failed: Input '['voodoo', 'no']' did not return 'False'\n",
      "Passed 0 tests out of 9 tests!\n"
     ]
    }
   ],
   "source": [
    "def mutation(arr):\n",
    "    return arr\n",
    "\n",
    "t.mutation_test(mutation) # Do not change - this is for grading!"
   ]
  },
  {
   "cell_type": "code",
   "execution_count": 339,
   "metadata": {},
   "outputs": [],
   "source": [
    "def fnc_mutation(the_list):\n",
    "    for char in the_list[1]:\n",
    "        if (the_list[0].lower().find(char.lower()))==-1:  \n",
    "            return False\n",
    "        elif (the_list[0].lower().find(char.lower())) ==0:\n",
    "            return True"
   ]
  },
  {
   "cell_type": "code",
   "execution_count": 340,
   "metadata": {},
   "outputs": [
    {
     "data": {
      "text/plain": [
       "True"
      ]
     },
     "execution_count": 340,
     "metadata": {},
     "output_type": "execute_result"
    }
   ],
   "source": [
    "fnc_mutation(['hello', 'Hello']) "
   ]
  },
  {
   "cell_type": "code",
   "execution_count": 341,
   "metadata": {},
   "outputs": [
    {
     "data": {
      "text/plain": [
       "True"
      ]
     },
     "execution_count": 341,
     "metadata": {},
     "output_type": "execute_result"
    }
   ],
   "source": [
    "fnc_mutation(['Mary', 'Army']) "
   ]
  },
  {
   "cell_type": "code",
   "execution_count": 344,
   "metadata": {},
   "outputs": [
    {
     "data": {
      "text/plain": [
       "False"
      ]
     },
     "execution_count": 344,
     "metadata": {},
     "output_type": "execute_result"
    }
   ],
   "source": [
    "fnc_mutation(['hello', 'neo']) "
   ]
  },
  {
   "cell_type": "markdown",
   "metadata": {},
   "source": [
    "## Falsy Bouncer \n",
    "Remove all falsy values from a list.\n",
    "\n",
    "Falsy values in Python are False, None, 0, \"\", (), [], and {}."
   ]
  },
  {
   "cell_type": "code",
   "execution_count": 16,
   "metadata": {},
   "outputs": [
    {
     "name": "stdout",
     "output_type": "stream",
     "text": [
      "Failed: Input '[7, 'ate', '', False, 9]' did not return '[7, 'ate', 9]'\n",
      "Passed: Correctly returned '['a', 'b', 'c']' for input '['a', 'b', 'c']'!\n",
      "Failed: Input '[False, None, 0, [], '']' did not return '[]'\n",
      "Failed: Input '[1, None, False, 2, {}]' did not return '[1, 2]'\n",
      "Passed 1 tests out of 4 tests!\n"
     ]
    }
   ],
   "source": [
    "def bouncer(arr):\n",
    "    # Don't show a false ID to this bouncer.\n",
    "    return arr\n",
    "\n",
    "t.bouncer_test(bouncer) # Do not change - this is for grading!"
   ]
  },
  {
   "cell_type": "code",
   "execution_count": 353,
   "metadata": {},
   "outputs": [],
   "source": [
    "def Fnc_Falsy_Bouncer(List):\n",
    "    List1 = []\n",
    "    for i in List:\n",
    "        if(bool(i)):\n",
    "            List1.append(i)\n",
    "    return List1;"
   ]
  },
  {
   "cell_type": "code",
   "execution_count": 350,
   "metadata": {},
   "outputs": [
    {
     "data": {
      "text/plain": [
       "[7, 'ate', 9]"
      ]
     },
     "execution_count": 350,
     "metadata": {},
     "output_type": "execute_result"
    }
   ],
   "source": [
    "Fnc_Falsy_Bouncer([7, \"ate\", \"\", False, None, 9, 0])"
   ]
  },
  {
   "cell_type": "code",
   "execution_count": 351,
   "metadata": {},
   "outputs": [
    {
     "data": {
      "text/plain": [
       "[]"
      ]
     },
     "execution_count": 351,
     "metadata": {},
     "output_type": "execute_result"
    }
   ],
   "source": [
    "Fnc_Falsy_Bouncer([False, None, 0, [], ''])"
   ]
  },
  {
   "cell_type": "code",
   "execution_count": 354,
   "metadata": {},
   "outputs": [
    {
     "data": {
      "text/plain": [
       "[1, 2]"
      ]
     },
     "execution_count": 354,
     "metadata": {},
     "output_type": "execute_result"
    }
   ],
   "source": [
    "Fnc_Falsy_Bouncer([1, None, False, 2, {}])"
   ]
  },
  {
   "cell_type": "markdown",
   "metadata": {},
   "source": [
    "## Seek and Destroy \n",
    "You will be provided with an initial list (the first argument in the destroyer function), followed by a list of targets. Remove all elements from the initial list that are of the same value as these targets."
   ]
  },
  {
   "cell_type": "code",
   "execution_count": 365,
   "metadata": {},
   "outputs": [
    {
     "name": "stdout",
     "output_type": "stream",
     "text": [
      "Failed: Input '[1, 2, 3, 1, 2, 3]' and '[2, 3]' did not return '[1, 1]'\n",
      "Failed: Input '[1, 2, 3, 5, 1, 2, 3]' and '[2, 3]' did not return '[1, 5, 1]'\n",
      "Failed: Input '[3, 5, 1, 2, 2]' and '[2, 3, 5]' did not return '[1]'\n",
      "Failed: Input '[2, 3, 2, 3]' and '[2, 3]' did not return '[]'\n",
      "Failed: Input '['tree', 'hamburger', 53]' and '['tree', 53]' did not return '['hamburger']'\n",
      "Passed 0 tests out of 5 tests!\n"
     ]
    }
   ],
   "source": [
    "def destroyer(arr, target):\n",
    "    return arr\n",
    "\n",
    "t.destroyer_test(destroyer) # Do not change - this is for grading!"
   ]
  },
  {
   "cell_type": "code",
   "execution_count": 357,
   "metadata": {},
   "outputs": [],
   "source": [
    "def Fnc_Seek_Destroy(*args):\n",
    "    the_list = args[0]\n",
    "    to_remove = list(args[1:])\n",
    "    # Doing some list comprehension \n",
    "    return [element for element in the_list if element not in to_remove]"
   ]
  },
  {
   "cell_type": "code",
   "execution_count": 358,
   "metadata": {},
   "outputs": [
    {
     "data": {
      "text/plain": [
       "['hamburger']"
      ]
     },
     "execution_count": 358,
     "metadata": {},
     "output_type": "execute_result"
    }
   ],
   "source": [
    "Fnc_Seek_Destroy([\"tree\", \"hamburger\", 53], \"tree\", 53)"
   ]
  },
  {
   "cell_type": "code",
   "execution_count": 361,
   "metadata": {},
   "outputs": [
    {
     "data": {
      "text/plain": [
       "[1, 5, 1]"
      ]
     },
     "execution_count": 361,
     "metadata": {},
     "output_type": "execute_result"
    }
   ],
   "source": [
    "Fnc_Seek_Destroy([1, 2, 3, 5, 1, 2, 3],2, 3)"
   ]
  },
  {
   "cell_type": "code",
   "execution_count": 362,
   "metadata": {},
   "outputs": [
    {
     "data": {
      "text/plain": [
       "[1]"
      ]
     },
     "execution_count": 362,
     "metadata": {},
     "output_type": "execute_result"
    }
   ],
   "source": [
    "Fnc_Seek_Destroy([3, 5, 1, 2, 2],2, 3, 5)"
   ]
  },
  {
   "cell_type": "markdown",
   "metadata": {},
   "source": [
    "## Where do I belong \n",
    "Return the lowest index at which a value (second argument) should be inserted into a list (first argument) once it has been sorted. The returned value should be a number.\n",
    "\n",
    "For example, `getIndexToIns([1,2,3,4], 1.5)` should return 1 because it is greater than 1 (index 0), but less than 2 (index 1).\n",
    "\n",
    "Likewise, `getIndexToIns([20,3,5], 19)` should return 2 because once the array has been sorted it will look like [3,5,20] and 19 is less than 20 (index 2) and greater than 5 (index 1)."
   ]
  },
  {
   "cell_type": "code",
   "execution_count": 18,
   "metadata": {},
   "outputs": [
    {
     "name": "stdout",
     "output_type": "stream",
     "text": [
      "Failed: Input '[10, 20, 30, 40, 50]' and '35' did not return '3'\n",
      "Failed: Input '[10, 20, 30, 40, 50]' and '30' did not return '2'\n",
      "Failed: Input '[40, 60]' and '50' did not return '1'\n",
      "Failed: Input '[3, 10, 5]' and '3' did not return '0'\n",
      "Failed: Input '[5, 3, 20, 3]' and '5' did not return '2'\n",
      "Failed: Input '[2, 20, 10]' and '19' did not return '2'\n",
      "Failed: Input '[2, 5, 10]' and '15' did not return '3'\n",
      "Passed 0 tests out of 7 tests!\n"
     ]
    }
   ],
   "source": [
    "def getIndexToIns(arr, num):\n",
    "    return num\n",
    "\n",
    "t.getIndex_test(getIndexToIns) # Do not change - this is for grading!"
   ]
  },
  {
   "cell_type": "code",
   "execution_count": 371,
   "metadata": {},
   "outputs": [],
   "source": [
    "def fnc_getIndexToIns(the_list, num):\n",
    "    the_list.append(num)\n",
    "    the_list.sort()\n",
    "    return the_list.index(num)"
   ]
  },
  {
   "cell_type": "code",
   "execution_count": 372,
   "metadata": {},
   "outputs": [
    {
     "data": {
      "text/plain": [
       "2"
      ]
     },
     "execution_count": 372,
     "metadata": {},
     "output_type": "execute_result"
    }
   ],
   "source": [
    "fnc_getIndexToIns([5, 3, 20, 3], 5)"
   ]
  },
  {
   "cell_type": "code",
   "execution_count": 373,
   "metadata": {},
   "outputs": [
    {
     "data": {
      "text/plain": [
       "3"
      ]
     },
     "execution_count": 373,
     "metadata": {},
     "output_type": "execute_result"
    }
   ],
   "source": [
    "fnc_getIndexToIns([2, 5, 10], 15)"
   ]
  },
  {
   "cell_type": "markdown",
   "metadata": {},
   "source": [
    "## Caesars Cipher \n",
    "One of the simplest and most widely known ciphers is a Caesar cipher, also known as a shift cipher. In a shift cipher the meanings of the letters are shifted by some set amount.\n",
    "\n",
    "A common modern use is the ROT13 cipher, where the values of the letters are shifted by 13 places. Thus 'A' ↔ 'N', 'B' ↔ 'O' and so on.\n",
    "\n",
    "Write a function which takes a ROT13 encoded string as input and returns a decoded string.\n",
    "\n",
    "All letters will be uppercase. Do not transform any non-alphabetic character (i.e. spaces, punctuation), but do pass them on."
   ]
  },
  {
   "cell_type": "code",
   "execution_count": 19,
   "metadata": {},
   "outputs": [
    {
     "name": "stdout",
     "output_type": "stream",
     "text": [
      "Failed: Input 'GURQRIZNFGREF' did not return 'THEDEVMASTERS'\n",
      "Failed: Input 'QNGN FPVRAPR!' did not return 'DATA SCIENCE!'\n",
      "Failed: Input 'SERR CVMMN!' did not return 'FREE PIZZA!'\n",
      "Failed: Input 'GUR DHVPX OEBJA QBT WHZCRQ BIRE GUR YNML SBK.' did not return 'THE QUICK BROWN DOG JUMPED OVER THE LAZY FOX.'\n",
      "Passed 0 tests out of 4 tests!\n"
     ]
    }
   ],
   "source": [
    "def rot13(string):\n",
    "    # LBH QVQ VG!\n",
    "    return string\n",
    "\n",
    "t.rot13_test(rot13) # Do not change - this is for grading!"
   ]
  },
  {
   "cell_type": "code",
   "execution_count": 400,
   "metadata": {},
   "outputs": [],
   "source": [
    "LETTERS = 'abcdefghijklmnopqrstuvwxyz'\n",
    "\n",
    "def encrypt(initial, shift):\n",
    "  \"\"\" Use : encrypt(\"message\", 98)\n",
    "  => 'gymmuay'\n",
    "  \n",
    "  Encrypts text using Caesar Cipher\n",
    "  \"\"\"\n",
    "  initial = initial.lower()\n",
    "  output = \"\"\n",
    "\n",
    "  for char in initial:\n",
    "    if char in LETTERS:\n",
    "      output += LETTERS[(LETTERS.index(char) + shift) % len(LETTERS)]\n",
    "\n",
    "  return output.upper()"
   ]
  },
  {
   "cell_type": "code",
   "execution_count": 393,
   "metadata": {},
   "outputs": [
    {
     "data": {
      "text/plain": [
       "'THEDEVMASTERS'"
      ]
     },
     "execution_count": 393,
     "metadata": {},
     "output_type": "execute_result"
    }
   ],
   "source": [
    "fnc_encrypt('GURQRIZNFGREF',13)"
   ]
  },
  {
   "cell_type": "code",
   "execution_count": 401,
   "metadata": {},
   "outputs": [
    {
     "data": {
      "text/plain": [
       "'FREEPIZZA'"
      ]
     },
     "execution_count": 401,
     "metadata": {},
     "output_type": "execute_result"
    }
   ],
   "source": [
    "encrypt('SERR CVMMN!',13)"
   ]
  }
 ],
 "metadata": {
  "anaconda-cloud": {},
  "kernelspec": {
   "display_name": "Python 3 (ipykernel)",
   "language": "python",
   "name": "python3"
  },
  "language_info": {
   "codemirror_mode": {
    "name": "ipython",
    "version": 3
   },
   "file_extension": ".py",
   "mimetype": "text/x-python",
   "name": "python",
   "nbconvert_exporter": "python",
   "pygments_lexer": "ipython3",
   "version": "3.10.9"
  }
 },
 "nbformat": 4,
 "nbformat_minor": 1
}
